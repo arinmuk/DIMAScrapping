{
 "cells": [
  {
   "cell_type": "code",
   "execution_count": 16,
   "id": "pointed-roulette",
   "metadata": {},
   "outputs": [],
   "source": [
    "import requests\n",
    "import json\n",
    "import html\n",
    "#from config import api_key\n",
    "import time\n",
    "import pprint as pprint\n",
    "url = \"https://www.diecastmodelaircraft.com/db/model/\"\n",
    "api_key=\"#.XCepzVxKiUl\"\n",
    "from bs4 import BeautifulSoup as bs\n",
    "from pymongo import MongoClient\n",
    "client = MongoClient()\n",
    "client = MongoClient('localhost', 27017)\n",
    "db=client['DIMA']\n",
    "colmodels=db['models']\n",
    "cloudM = \"arinmuk\"\n",
    "cloudMpassword = \"Airbusa350xwb\"\n",
    "\n",
    "\n",
    "cloudMClnt=MongoClient(\"mongodb+srv://\"+ cloudM + \":\"\n",
    "                       + cloudMpassword + \"@arinmongo.w3goy.mongodb.net/myFirstDatabase?retryWrites=true&w=majority\")\n",
    "clouddb=cloudMClnt['DIMA']\n",
    "cloudmodels=db['models']"
   ]
  },
  {
   "cell_type": "code",
   "execution_count": 17,
   "id": "biblical-courtesy",
   "metadata": {},
   "outputs": [],
   "source": [
    "clouddb.cloudmodels.drop()"
   ]
  },
  {
   "cell_type": "code",
   "execution_count": 18,
   "id": "brief-credits",
   "metadata": {},
   "outputs": [],
   "source": [
    "#1,2000\n",
    "#2000,8000\n",
    "#8000,16000\n",
    "#16000,25000\n",
    "#25000,35000\n",
    "#35000,40000\n",
    "50000,60000\n",
    "60000,75000\n",
    "75000,83500"
   ]
  },
  {
   "cell_type": "code",
   "execution_count": 41,
   "id": "liable-maple",
   "metadata": {},
   "outputs": [
    {
     "name": "stdout",
     "output_type": "stream",
     "text": [
      "https://www.diecastmodelaircraft.com/db/model/83600#.XCepzVxKiUl\n",
      "<Response [200]>\n",
      "{'Manufacturer': 'Panda Models', 'Make/Model': 'Boeing B 737-79PWL', 'Airline': 'Southwest Airlines', 'Scale': '1:400', 'Part #': 'PNN7855A', 'DiMA ID #': '83600', 'Registration': 'N7855A', 'Engines': '2 CFM56-7B24', '                                                Country': 'United States of America', 'Continent': 'North America', 'Production': '2021 - 2021', 'Units Made': 'Limited', 'Rolling Gears': 'Yes', 'Includes Stand': 'No', 'Notes': '\"2010s\" Colors.'}\n",
      "15\n",
      "https://www.diecastmodelaircraft.com/db/model/83601#.XCepzVxKiUl\n",
      "<Response [200]>\n",
      "{'Manufacturer': 'Panda Models', 'Make/Model': 'Boeing B 737-7H4WL', 'Airline': 'Southwest Airlines', 'Scale': '1:400', 'Part #': 'PAN724SW', 'DiMA ID #': '83601', 'Registration': 'N724SW', 'Engines': '2 CFM56-7B24', '                                                Country': 'United States of America', 'Continent': 'North America', 'Production': '2021 - 2021', 'Units Made': '200', 'Rolling Gears': 'No', 'Includes Stand': 'No', 'Notes': '\"Retro - Mustard Rocket\" Colors.'}\n",
      "15\n",
      "https://www.diecastmodelaircraft.com/db/model/83602#.XCepzVxKiUl\n",
      "<Response [200]>\n",
      "{'Manufacturer': 'Make/Model:', ' ': 'Airline:', 'Scale': 'Part #:', 'DiMA ID #': 'Registration:', 'Engines': '                                                Country:', 'Continent': 'Production:', ' - ': 'Units Made:', 'Rolling Gears': 'No', 'Includes Stand': 'No'}\n",
      "9\n",
      "Empty\n",
      "https://www.diecastmodelaircraft.com/db/model/83603#.XCepzVxKiUl\n",
      "<Response [200]>\n",
      "{'Manufacturer': 'JC Wings', 'Make/Model': 'Embraer ERJ-175STD', 'Airline': 'FlyBe', 'Scale': '1:400', 'Part #': 'W400-0001', 'DiMA ID #': '83603', 'Registration': 'G-FBJH', 'Engines': '2 CF34-8E', '                                                Country': 'Great Britain', 'Continent': 'Europe', 'Production': '2021 - 2021', 'Units Made': '360', 'Rolling Gears': 'Yes', 'Includes Stand': 'No', 'Notes': '\"2000s\" Colors. Exclusive for Wings400.'}\n",
      "15\n",
      "https://www.diecastmodelaircraft.com/db/model/83604#.XCepzVxKiUl\n",
      "<Response [200]>\n",
      "{'Manufacturer': 'Make/Model:', ' ': 'Airline:', 'Scale': 'Part #:', 'DiMA ID #': 'Registration:', 'Engines': '                                                Country:', 'Continent': 'Production:', ' - ': 'Units Made:', 'Rolling Gears': 'No', 'Includes Stand': 'No'}\n",
      "9\n",
      "Empty\n",
      "https://www.diecastmodelaircraft.com/db/model/83605#.XCepzVxKiUl\n",
      "<Response [200]>\n",
      "{'Manufacturer': 'JC Wings', 'Make/Model': ' ', 'Airline': 'Air New Zealand', 'Scale': '1:200', 'Part #': 'xx20073', 'DiMA ID #': '83605', 'Registration': 'ZK-NGA', 'Engines': '2 CFM56-3B2', '                                                Country': 'Continent:', 'Production': ' - ', 'Units Made': 'Limited', 'Rolling Gears': 'No', 'Includes Stand': 'No', 'Notes': 'xx20073'}\n",
      "14\n",
      "https://www.diecastmodelaircraft.com/db/model/83606#.XCepzVxKiUl\n",
      "<Response [200]>\n",
      "{'Manufacturer': 'Inflight200', 'Make/Model': ' ', 'Airline': 'Air Holland', 'Scale': '1:200', 'Part #': 'LHSHD757', 'DiMA ID #': '83606', 'Registration': 'PH-AHE', 'Engines': 'Rolls Royce RB211', '                                                Country': 'Continent:', 'Production': '2021 - 2021', 'Units Made': 'Rolling Gears:', 'No': 'Notes:'}\n",
      "12\n",
      "https://www.diecastmodelaircraft.com/db/model/83607#.XCepzVxKiUl\n",
      "<Response [200]>\n",
      "{'Manufacturer': 'Inflight200', 'Make/Model': ' ', 'Airline': 'Transavia', 'Scale': '1:200', 'Part #': 'LHSHV757', 'DiMA ID #': '83607', 'Registration': 'PH-TKD', 'Engines': 'Rolls Royce RB211', '                                                Country': 'Continent:', 'Production': '2021 - 2021', 'Units Made': 'Rolling Gears:', 'No': 'Notes:'}\n",
      "12\n",
      "https://www.diecastmodelaircraft.com/db/model/83608#.XCepzVxKiUl\n",
      "<Response [200]>\n",
      "{'Manufacturer': 'Panda Models', 'Make/Model': ' ', 'Airline': 'Canadian North', 'Scale': '1:400', 'Part #': 'PW004', 'DiMA ID #': '83608', 'Registration': 'C-FFNE', 'Engines': 'CFM Intl. 56-3B-2', '                                                Country': 'Continent:', 'Production': '2021 - 2021', 'Units Made': 'Limited', 'Rolling Gears': 'No', 'Includes Stand': 'No', 'Notes': '2020 Colours. Prairie Diecast Exclusive'}\n",
      "14\n",
      "https://www.diecastmodelaircraft.com/db/model/83609#.XCepzVxKiUl\n",
      "<Response [200]>\n",
      "{'Manufacturer': 'Aeroclassics', 'Make/Model': ' ', 'Airline': 'Aeromexico', 'Scale': '1:400', 'Part #': 'AC411023', 'DiMA ID #': '83609', 'Registration': 'XA-MAZ', 'Engines': '                                                Country:', 'Continent': 'Production:', '2021 - 2021': 'Units Made:', 'Rolling Gears': 'No', 'Includes Stand': 'No'}\n",
      "12\n",
      "https://www.diecastmodelaircraft.com/db/model/83610#.XCepzVxKiUl\n",
      "<Response [200]>\n",
      "{'Manufacturer': 'Aeroclassics', 'Make/Model': ' ', 'Airline': 'PIA - Pakistan International Airlines', 'Scale': '1:200', 'Part #': 'WM219918', 'DiMA ID #': '83610', 'Registration': 'AP-AJZ', 'Engines': '                                                Country:', 'Continent': 'Production:', '2021 - 2021': 'Units Made:', 'Rolling Gears': 'No', 'Includes Stand': 'No'}\n",
      "12\n",
      "https://www.diecastmodelaircraft.com/db/model/83611#.XCepzVxKiUl\n",
      "<Response [200]>\n",
      "{'Manufacturer': 'Aeroclassics', 'Make/Model': ' ', 'Airline': 'Braathens SAFE', 'Scale': '1:400', 'Part #': 'AC411004', 'DiMA ID #': '83611', 'Registration': 'LN-SUV', 'Engines': '                                                Country:', 'Continent': 'Production:', '2021 - 2021': 'Units Made:', 'Rolling Gears': 'No', 'Includes Stand': 'No'}\n",
      "12\n",
      "https://www.diecastmodelaircraft.com/db/model/83612#.XCepzVxKiUl\n",
      "<Response [200]>\n",
      "{'Manufacturer': 'Aeroclassics', 'Make/Model': ' ', 'Airline': 'United Airlines', 'Scale': '1:400', 'Part #': 'AC411022', 'DiMA ID #': '83612', 'Registration': 'N27251', 'Engines': '                                                Country:', 'Continent': 'Production:', '2021 - 2021': 'Units Made:', 'Rolling Gears': 'No', 'Includes Stand': 'No'}\n",
      "12\n",
      "https://www.diecastmodelaircraft.com/db/model/83613#.XCepzVxKiUl\n",
      "<Response [200]>\n",
      "{'Manufacturer': 'Aeroclassics', 'Make/Model': ' ', 'Airline': 'VARIG', 'Scale': '1:400', 'Part #': 'AC411006', 'DiMA ID #': '83613', 'Registration': 'PR-VAC', 'Engines': '                                                Country:', 'Continent': 'Production:', '2021 - 2021': 'Units Made:', 'Rolling Gears': 'No', 'Includes Stand': 'No', 'Notes': '2000s Clrs'}\n",
      "13\n",
      "https://www.diecastmodelaircraft.com/db/model/83614#.XCepzVxKiUl\n",
      "<Response [200]>\n",
      "{'Manufacturer': 'Aeroclassics', 'Make/Model': ' ', 'Airline': 'Mexicana', 'Scale': '1:400', 'Part #': 'AC411024', 'DiMA ID #': '83614', 'Registration': 'XA-MXK', 'Engines': '                                                Country:', 'Continent': 'Production:', '2021 - 2021': 'Units Made:', 'Rolling Gears': 'No', 'Includes Stand': 'No', 'Notes': 'Oneworld Clrs'}\n",
      "13\n",
      "https://www.diecastmodelaircraft.com/db/model/83615#.XCepzVxKiUl\n",
      "<Response [200]>\n",
      "{'Manufacturer': 'Aeroclassics', 'Make/Model': ' ', 'Airline': 'Aeroflot', 'Scale': '1:400', 'Part #': 'AC419958', 'DiMA ID #': '83615', 'Registration': 'CCCP-85000', 'Engines': '                                                Country:', 'Continent': 'Production:', '2021 - 2021': 'Units Made:', 'Rolling Gears': 'No', 'Includes Stand': 'No', 'Notes': '1970s Wavy Flag Clrs'}\n",
      "13\n",
      "https://www.diecastmodelaircraft.com/db/model/83616#.XCepzVxKiUl\n",
      "<Response [200]>\n",
      "{'Manufacturer': 'Inflight200', 'Make/Model': ' ', 'Airline': 'Iran Air', 'Scale': '1:200', 'Part #': 'DiMA ID #:', '83616': 'Registration:', 'EP-IRR': 'Engines:', '                                                Country': 'Continent:', 'Production': '2021 - ', 'Units Made': 'Rolling Gears:', 'No': 'Notes:'}\n",
      "11\n"
     ]
    },
    {
     "ename": "KeyError",
     "evalue": "'DiMA ID #'",
     "output_type": "error",
     "traceback": [
      "\u001b[1;31m---------------------------------------------------------------------------\u001b[0m",
      "\u001b[1;31mKeyError\u001b[0m                                  Traceback (most recent call last)",
      "\u001b[1;32m<ipython-input-41-63c374b4ca98>\u001b[0m in \u001b[0;36m<module>\u001b[1;34m\u001b[0m\n\u001b[0;32m     38\u001b[0m     \u001b[0mprint\u001b[0m\u001b[1;33m(\u001b[0m\u001b[0mdata\u001b[0m\u001b[1;33m)\u001b[0m\u001b[1;33m\u001b[0m\u001b[1;33m\u001b[0m\u001b[0m\n\u001b[0;32m     39\u001b[0m     \u001b[0mprint\u001b[0m\u001b[1;33m(\u001b[0m\u001b[0mlen\u001b[0m\u001b[1;33m(\u001b[0m\u001b[0mdata\u001b[0m\u001b[1;33m)\u001b[0m\u001b[1;33m)\u001b[0m\u001b[1;33m\u001b[0m\u001b[1;33m\u001b[0m\u001b[0m\n\u001b[1;32m---> 40\u001b[1;33m     \u001b[1;32mif\u001b[0m \u001b[0mdata\u001b[0m\u001b[1;33m[\u001b[0m\u001b[1;34m'DiMA ID #'\u001b[0m\u001b[1;33m]\u001b[0m \u001b[1;32mand\u001b[0m \u001b[0mdata\u001b[0m\u001b[1;33m[\u001b[0m\u001b[1;34m'Manufacturer'\u001b[0m\u001b[1;33m]\u001b[0m\u001b[1;33m!=\u001b[0m\u001b[1;34m'Make/Model:'\u001b[0m\u001b[1;33m:\u001b[0m\u001b[1;33m\u001b[0m\u001b[1;33m\u001b[0m\u001b[0m\n\u001b[0m\u001b[0;32m     41\u001b[0m         \u001b[0mclouddb\u001b[0m\u001b[1;33m.\u001b[0m\u001b[0mmodels\u001b[0m\u001b[1;33m.\u001b[0m\u001b[0minsert_one\u001b[0m\u001b[1;33m(\u001b[0m\u001b[0mdata\u001b[0m\u001b[1;33m)\u001b[0m\u001b[1;33m\u001b[0m\u001b[1;33m\u001b[0m\u001b[0m\n\u001b[0;32m     42\u001b[0m     \u001b[1;32melse\u001b[0m\u001b[1;33m:\u001b[0m\u001b[1;33m\u001b[0m\u001b[1;33m\u001b[0m\u001b[0m\n",
      "\u001b[1;31mKeyError\u001b[0m: 'DiMA ID #'"
     ]
    }
   ],
   "source": [
    "import time\n",
    "data={}\n",
    "lst=[]\n",
    "master_lst=[]\n",
    "for i in range(83600,83700):\n",
    "    #77251):#11340#58889#58914#64490;66904;66905;71144;72682;72683;76485,76845:76967;76981,76982,76983,76984,76985\n",
    "    strng=url+str(i)+api_key\n",
    "    print(strng)\n",
    "    response=requests.get(strng)#.xml()\n",
    "    #print(requests.get(strng))\n",
    "    #pprint.pprint(response)\n",
    "    print(response)\n",
    "    soup = bs(response.text, 'html.parser')\n",
    "\n",
    "    results = soup.find_all('td')#,class_=\"align=\")\n",
    "    #print(results)\n",
    "    #time.sleep(3)\n",
    "    for result in results:\n",
    "        #print(result.text)\n",
    "        if result.text == 'Quick Stats:':\n",
    "            break\n",
    "        #lst.append(result.text.strip())\n",
    "        #lst=list(filter(None,lst))\n",
    "\n",
    "        lst.append(result.text.strip('\\n\\t'))\n",
    "        #lst\n",
    "        #print(len(lst))\n",
    "    while(\"\" in lst) :\n",
    "        lst.remove(\"\")\n",
    "    for i in range(0,len(lst)-1,2):\n",
    "        data[lst[i].strip(':')]=lst[i+1]\n",
    "        #print(i)\n",
    "        \n",
    "\n",
    "    #data \n",
    "    #master_lst.append(data)\n",
    "    \n",
    "    print(data)\n",
    "    print(len(data))\n",
    "    if data['DiMA ID #'] and data['Manufacturer']!='Make/Model:':\n",
    "        clouddb.models.insert_one(data)\n",
    "    else:\n",
    "        print(\"Empty\")\n",
    "    data={}\n",
    "    lst=[]"
   ]
  },
  {
   "cell_type": "code",
   "execution_count": 10,
   "id": "worth-stock",
   "metadata": {},
   "outputs": [
    {
     "name": "stdout",
     "output_type": "stream",
     "text": [
      "cat\n"
     ]
    }
   ],
   "source": [
    "c =['cat:','dog:']\n",
    "\n",
    "print(c[0].strip(':'))"
   ]
  },
  {
   "cell_type": "code",
   "execution_count": null,
   "id": "caroline-fifteen",
   "metadata": {},
   "outputs": [],
   "source": []
  }
 ],
 "metadata": {
  "kernelspec": {
   "display_name": "Python 3",
   "language": "python",
   "name": "python3"
  },
  "language_info": {
   "codemirror_mode": {
    "name": "ipython",
    "version": 3
   },
   "file_extension": ".py",
   "mimetype": "text/x-python",
   "name": "python",
   "nbconvert_exporter": "python",
   "pygments_lexer": "ipython3",
   "version": "3.7.9"
  }
 },
 "nbformat": 4,
 "nbformat_minor": 5
}
