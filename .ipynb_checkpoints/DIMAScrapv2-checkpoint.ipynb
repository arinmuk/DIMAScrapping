{
 "cells": [
  {
   "cell_type": "code",
   "execution_count": null,
   "id": "military-franklin",
   "metadata": {},
   "outputs": [],
   "source": [
    "import requests\n",
    "import json\n",
    "import html\n",
    "#from config import api_key\n",
    "import time\n",
    "import pprint as pprint\n",
    "url = \"https://www.diecastmodelaircraft.com/db/model/\"\n",
    "api_key=\"#.XCepzVxKiUl\"\n",
    "from bs4 import BeautifulSoup as bs\n",
    "from pymongo import MongoClient\n",
    "client = MongoClient()\n",
    "client = MongoClient('localhost', 27017)\n",
    "db=client['DIMA']\n",
    "colmodels=db['models']\n",
    "cloudM = \"arinmuk\"\n",
    "cloudMpassword = \"Airbusa350xwb\"\n",
    "\n",
    "\n",
    "cloudMClnt=MongoClient(\"mongodb+srv://\"+ cloudM + \":\"\n",
    "                       + cloudMpassword + \"@arinmongo.w3goy.mongodb.net/myFirstDatabase?retryWrites=true&w=majority\")\n",
    "clouddb=cloudMClnt['DIMA']\n",
    "cloudmodels=db['models']"
   ]
  },
  {
   "cell_type": "code",
   "execution_count": null,
   "id": "unexpected-priest",
   "metadata": {},
   "outputs": [],
   "source": [
    "#cloudmodels.drop()"
   ]
  },
  {
   "cell_type": "code",
   "execution_count": null,
   "id": "acquired-annual",
   "metadata": {},
   "outputs": [],
   "source": []
  },
  {
   "cell_type": "code",
   "execution_count": null,
   "id": "composed-greek",
   "metadata": {},
   "outputs": [],
   "source": [
    "import time\n",
    "data={}\n",
    "lst=[]\n",
    "master_lst=[]\n",
    "for i in range(1,200):\n",
    "    #77251):#11340#58889#58914#64490;66904;66905;71144;72682;72683;76485,76845:76967;76981,76982,76983,76984,76985\n",
    "    strng=url+str(i)+api_key\n",
    "    print(strng)\n",
    "    response=requests.get(strng)#.xml()\n",
    "    #print(requests.get(strng))\n",
    "    #pprint.pprint(response)\n",
    "    print(response)\n",
    "    soup = bs(response.text, 'html.parser')\n",
    "\n",
    "    results = soup.find_all('td')#,class_=\"align=\")\n",
    "    #print(results)\n",
    "    #time.sleep(3)\n",
    "    for result in results:\n",
    "        #print(result.text)\n",
    "        if result.text == 'Quick Stats:':\n",
    "            break\n",
    "        #lst.append(result.text.strip())\n",
    "        #lst=list(filter(None,lst))\n",
    "\n",
    "        lst.append(result.text.strip('\\n\\t'))\n",
    "        #lst\n",
    "        #print(len(lst))\n",
    "    while(\"\" in lst) :\n",
    "        lst.remove(\"\")\n",
    "    for i in range(0,len(lst)-1,2):\n",
    "        data[lst[i]]=lst[i+1]\n",
    "        #print(i)\n",
    "        \n",
    "\n",
    "    #data \n",
    "    #master_lst.append(data)\n",
    "    \n",
    "    print(data)\n",
    "    print(len(data))\n",
    "    clouddb.models.insert_one(data)\n",
    "    data={}\n",
    "    lst=[]"
   ]
  }
 ],
 "metadata": {
  "kernelspec": {
   "display_name": "Python 3",
   "language": "python",
   "name": "python3"
  },
  "language_info": {
   "codemirror_mode": {
    "name": "ipython",
    "version": 3
   },
   "file_extension": ".py",
   "mimetype": "text/x-python",
   "name": "python",
   "nbconvert_exporter": "python",
   "pygments_lexer": "ipython3",
   "version": "3.7.9"
  }
 },
 "nbformat": 4,
 "nbformat_minor": 5
}
